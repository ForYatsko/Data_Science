{
 "cells": [
  {
   "cell_type": "code",
   "execution_count": 113,
   "id": "2b1c101f-3950-4584-944b-140baf09c8b7",
   "metadata": {},
   "outputs": [
    {
     "name": "stdout",
     "output_type": "stream",
     "text": [
      "['1', '2', 'my', '4', '5']\n",
      "['1', '2', '3', '4', '5']\n"
     ]
    }
   ],
   "source": [
    "# Создать список из 5 строк и заменить в нем третий элемент на новую строку.\n",
    "    # создаем список из пяти строк\n",
    "a='1,2,my,4,5' #что в этом языке с пробелами?\n",
    "#a?\n",
    "lst=a.split(',')\n",
    "print(lst)\n",
    "#Заменяем третий элемент\n",
    "lst[2] = '3'\n",
    "print(lst)"
   ]
  },
  {
   "cell_type": "code",
   "execution_count": 115,
   "id": "6334a4a6-5521-4d70-a62b-d32a6478e1b0",
   "metadata": {},
   "outputs": [
    {
     "name": "stdout",
     "output_type": "stream",
     "text": [
      "[10, 11, '0', 13, 14]\n"
     ]
    }
   ],
   "source": [
    "#Список\n",
    "a = [i for i in range(10,15)]\n",
    "#a?\n",
    "#Заменяем третий элемент\n",
    "a[2] = '0'\n",
    "print(a)"
   ]
  }
 ],
 "metadata": {
  "kernelspec": {
   "display_name": "Python 3 (ipykernel)",
   "language": "python",
   "name": "python3"
  },
  "language_info": {
   "codemirror_mode": {
    "name": "ipython",
    "version": 3
   },
   "file_extension": ".py",
   "mimetype": "text/x-python",
   "name": "python",
   "nbconvert_exporter": "python",
   "pygments_lexer": "ipython3",
   "version": "3.12.8"
  }
 },
 "nbformat": 4,
 "nbformat_minor": 5
}
